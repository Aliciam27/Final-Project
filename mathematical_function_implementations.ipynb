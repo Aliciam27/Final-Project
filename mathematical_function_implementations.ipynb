{
  "nbformat": 4,
  "nbformat_minor": 0,
  "metadata": {
    "colab": {
      "provenance": [],
      "authorship_tag": "ABX9TyPswCIBYDWWdD4kvm+VmLIP",
      "include_colab_link": true
    },
    "kernelspec": {
      "name": "python3",
      "display_name": "Python 3"
    },
    "language_info": {
      "name": "python"
    }
  },
  "cells": [
    {
      "cell_type": "markdown",
      "metadata": {
        "id": "view-in-github",
        "colab_type": "text"
      },
      "source": [
        "<a href=\"https://colab.research.google.com/gist/Aliciam27/f1d0470d2dc8c09755973e80e17b3155/mathematical_function_implementations.ipynb\" target=\"_parent\"><img src=\"https://colab.research.google.com/assets/colab-badge.svg\" alt=\"Open In Colab\"/></a>"
      ]
    },
    {
      "cell_type": "code",
      "source": [
        "def factorial(n):\n",
        "    \"\"\"\n",
        "    Calculate the factorial of a non-negative integer n.\n",
        "\n",
        "    Parameters:\n",
        "    n (int): A non-negative integer.\n",
        "\n",
        "    Returns:\n",
        "    int: Factorial of n.\n",
        "    \"\"\"\n",
        "    if n < 0:\n",
        "        raise ValueError(\"n must be a non-negative integer.\")\n",
        "    result = 1\n",
        "    for i in range(1, n + 1):\n",
        "        result *= i\n",
        "    return result\n"
      ],
      "metadata": {
        "id": "6Eoez7UpVblW"
      },
      "execution_count": 3,
      "outputs": []
    },
    {
      "cell_type": "code",
      "source": [
        "def is_prime(n):\n",
        "    \"\"\"\n",
        "    Check if a given number is prime.\n",
        "\n",
        "    Parameters:\n",
        "    n (int): The number to check.\n",
        "\n",
        "    Returns:\n",
        "    bool: True if n is prime, False otherwise.\n",
        "    \"\"\"\n",
        "    if n <= 1:\n",
        "        return False\n",
        "    for i in range(2, int(n**0.5) + 1):\n",
        "        if n % i == 0:\n",
        "            return False\n",
        "    return True\n"
      ],
      "metadata": {
        "id": "X1tT2pUQVdKb"
      },
      "execution_count": 4,
      "outputs": []
    },
    {
      "cell_type": "code",
      "source": [
        "def gcd(a, b):\n",
        "    \"\"\"\n",
        "    Calculate the greatest common divisor of two integers using Euclid's algorithm.\n",
        "\n",
        "    Parameters:\n",
        "    a (int): First integer.\n",
        "    b (int): Second integer.\n",
        "\n",
        "    Returns:\n",
        "    int: GCD of a and b.\n",
        "    \"\"\"\n",
        "    while b:\n",
        "        a, b = b, a % b\n",
        "    return a\n"
      ],
      "metadata": {
        "id": "c5u6nWVDVrLD"
      },
      "execution_count": 5,
      "outputs": []
    },
    {
      "cell_type": "markdown",
      "source": [
        "Factorial Function:\n",
        "The function includes a check for negative input, raising an error if the input is invalid.\n",
        "O(n), as it iterates through all integers from 1 to\n",
        "n\n",
        "Factorial(5): 120 confrims the correctness of iterative mulitplication.\n",
        "For repeated calls, memoization can store previously computed results to avoid recalculations."
      ],
      "metadata": {
        "id": "J9Il5wI_YKcd"
      }
    },
    {
      "cell_type": "code",
      "source": [
        "print(\"Factorials:\")\n",
        "print(\"5! =\", factorial(5))  # 120\n",
        "print(\"7! =\", factorial(7))  # 5040\n",
        "print(\"10! =\", factorial(10))  # 3628800\n"
      ],
      "metadata": {
        "colab": {
          "base_uri": "https://localhost:8080/"
        },
        "id": "iefcBOdDWByJ",
        "outputId": "b0199cb2-337b-4b20-e506-d435de6656f8"
      },
      "execution_count": 9,
      "outputs": [
        {
          "output_type": "stream",
          "name": "stdout",
          "text": [
            "Factorials:\n",
            "5! = 120\n",
            "7! = 5040\n",
            "10! = 3628800\n"
          ]
        }
      ]
    },
    {
      "cell_type": "markdown",
      "source": [
        "Prime Checker: A prime number is a positive integer greater than 1 with no dividors other than 1 and itself. n≤1 is handled explicitly as non-prime. Use the Sieve of Eratosthenes for batch operations or frequent prime checks. Skip even numbers after checking\n",
        "2\n",
        ", as all even numbers >2 are non-prime.\n"
      ],
      "metadata": {
        "id": "C4tmaVWsdcnG"
      }
    },
    {
      "cell_type": "code",
      "source": [
        "print(\"\\nPrime Check:\")\n",
        "print(\"Is 29 prime?\", is_prime(29))  # True\n",
        "print(\"Is 57 prime?\", is_prime(57))  # False\n",
        "print(\"Is 97 prime?\", is_prime(97))  # True\n"
      ],
      "metadata": {
        "colab": {
          "base_uri": "https://localhost:8080/"
        },
        "id": "9GhnrBx9WGc4",
        "outputId": "77eff4d7-dd76-4fd6-f916-4ef6caf8e0b3"
      },
      "execution_count": 10,
      "outputs": [
        {
          "output_type": "stream",
          "name": "stdout",
          "text": [
            "\n",
            "Prime Check:\n",
            "Is 29 prime? True\n",
            "Is 57 prime? False\n",
            "Is 97 prime? True\n"
          ]
        }
      ]
    },
    {
      "cell_type": "markdown",
      "source": [
        "GCD Calculator: The greatest common divisor (GCD) is the largest integer that divides two numbers without a remainder. Euclid's algorithm repeatedly replaces\n",
        "a\n",
        "a with\n",
        "b\n",
        "b and\n",
        "b\n",
        "b with\n",
        "a\n",
        "%\n",
        "b\n",
        "a%b until\n",
        "b\n",
        "=\n",
        "0\n",
        "b=0, at which point\n",
        "a\n",
        "a is the GCD. Handles any two integers, including negative numbers, by reducing them to their absolute values during calculations. Euclid's algorithm is already optimal for GCD calculations.\n"
      ],
      "metadata": {
        "id": "t2N-j5PSgSVU"
      }
    },
    {
      "cell_type": "code",
      "source": [
        "print(\"\\nGCD:\")\n",
        "print(\"GCD of 48 and 180:\", gcd(48, 180))  # 12\n",
        "print(\"GCD of 56 and 98:\", gcd(56, 98))  # 14\n",
        "print(\"GCD of 101 and 103:\", gcd(101, 103))  # 1\n"
      ],
      "metadata": {
        "colab": {
          "base_uri": "https://localhost:8080/"
        },
        "id": "R5PiRtqUWMVL",
        "outputId": "bb80efb5-acd9-4ff9-d487-cf50db0e7c90"
      },
      "execution_count": 11,
      "outputs": [
        {
          "output_type": "stream",
          "name": "stdout",
          "text": [
            "\n",
            "GCD:\n",
            "GCD of 48 and 180: 12\n",
            "GCD of 56 and 98: 14\n",
            "GCD of 101 and 103: 1\n"
          ]
        }
      ]
    }
  ]
}